{
 "cells": [
  {
   "cell_type": "markdown",
   "metadata": {},
   "source": []
  },
  {
   "cell_type": "code",
   "execution_count": 2,
   "metadata": {
    "collapsed": true
   },
   "outputs": [],
   "source": [
    "import numpy as np\n",
    "import csv"
   ]
  },
  {
   "cell_type": "code",
   "execution_count": 37,
   "metadata": {},
   "outputs": [],
   "source": [
    "fin = open('data/ign.csv', 'r')\n",
    "ign = csv.DictReader(fin)\n",
    "\n",
    "ign_line_number = ''\n",
    "ign_score_pr = 'score_phrase'\n",
    "ign_title = 'title'\n",
    "ign_url = 'url'\n",
    "ign_platform = 'platform'\n",
    "ign_score = 'score'\n",
    "ign_genre = 'genre'\n",
    "ign_editor_choice = 'editor_choice'\n",
    "ign_release_y = 'release_year'\n",
    "ign_release_m = 'release_month'\n",
    "ign_release_d = 'release_day'\n",
    "\n",
    "ign_data = [row for row in ign]\n",
    "    \n",
    "fin = open('data/vgsales.csv', 'r')\n",
    "sales = csv.DictReader(fin)\n",
    "\n",
    "sales_rank = 'Rank'\n",
    "sales_name = 'Name'\n",
    "sales_platform = 'Platform'\n",
    "sales_year = 'Year'\n",
    "sales_genre = 'Genre'\n",
    "sales_publisher = 'Publisher'\n",
    "sales_NA = 'NA_Sales'\n",
    "sales_EU = 'EU_Sales'\n",
    "sales_JP = 'JP_Sales'\n",
    "sales_other = 'Other_Sales'\n",
    "sales_global = 'Global_Sales'\n",
    "\n",
    "sales_data = [row for row in sales]\n",
    "\n",
    "fin = open('data/Video_Games_Sales_as_at_22_Dec_2016.csv', 'r')\n",
    "r_sales = csv.DictReader(fin)\n",
    "\n",
    "r_sales_rank = 'Rank'\n",
    "r_sales_name = 'Name'\n",
    "r_sales_platform = 'Platform'\n",
    "r_sales_year = 'Year_of_Release'\n",
    "r_sales_genre = 'Genre'\n",
    "r_sales_publisher = 'Publisher'\n",
    "r_sales_NA = 'NA_Sales'\n",
    "r_sales_EU = 'EU_Sales'\n",
    "r_sales_JP = 'JP_Sales'\n",
    "r_sales_other = 'Other_Sales'\n",
    "r_sales_global = 'Global_Sales'\n",
    "r_sales_critic_score = 'Critic_Score'\n",
    "r_sales_critic_count = 'Critic_Count'\n",
    "r_sales_user_score = 'User_Score'\n",
    "r_sales_user_count = 'User_Count'\n",
    "\n",
    "rating_sales_data = [row for row in r_sales]"
   ]
  },
  {
   "cell_type": "code",
   "execution_count": 32,
   "metadata": {},
   "outputs": [],
   "source": [
    "def combine_sales_rating(sales_data, r_sales):\n",
    "    sales = [dict(row) for row in sales_data]\n",
    "    new_sales = []\n",
    "    \n",
    "    for i in range(0, len(sales)):\n",
    "        for j in range(0, len(r_sales)):\n",
    "            if sales[i][sales_name] == r_sales[j][r_sales_name] and \\\n",
    "            sales[i][sales_year] == r_sales[j][r_sales_year] and \\\n",
    "            sales[i][sales_genre] == r_sales[j][r_sales_genre]:\n",
    "                sales[i][r_sales_critic_score] = r_sales[j][r_sales_critic_score]\n",
    "                sales[i][r_sales_critic_count] = r_sales[j][r_sales_critic_count]\n",
    "                sales[i][r_sales_user_score] = r_sales[j][r_sales_user_score]\n",
    "                sales[i][r_sales_user_count] = r_sales[j][r_sales_user_count]\n",
    "                \n",
    "                new_sales += [sales[i]]\n",
    "                break\n",
    "                \n",
    "    return new_sales\n",
    "                \n",
    "r_sales_data = combine_sales_rating(sales_data, rating_sales_data)"
   ]
  },
  {
   "cell_type": "code",
   "execution_count": 34,
   "metadata": {},
   "outputs": [
    {
     "name": "stdout",
     "output_type": "stream",
     "text": [
      "{'Rank': '1', 'Name': 'Wii Sports', 'Platform': 'Wii', 'Year': '2006', 'Genre': 'Sports', 'Publisher': 'Nintendo', 'NA_Sales': '41.49', 'EU_Sales': '29.02', 'JP_Sales': '3.77', 'Other_Sales': '8.46', 'Global_Sales': '82.74', 'Critic_Score': '76', 'Critic_Count': '51', 'User_Score': '8', 'User_Count': '322'}\n"
     ]
    }
   ],
   "source": [
    "print(r_sales_data[0])"
   ]
  },
  {
   "cell_type": "code",
   "execution_count": 39,
   "metadata": {},
   "outputs": [],
   "source": [
    "def dicts_overlapping_time(ign_data, sales_data):\n",
    "    ign_min_year = 3000\n",
    "    ign_max_year = 1000\n",
    "\n",
    "    for row in ign_data:\n",
    "        ign_min_year = min(ign_min_year, int(row[ign_release_y]))\n",
    "        ign_max_year = max(ign_max_year, int(row[ign_release_y]))\n",
    "        \n",
    "    sales_data = [row for row in sales_data if row[sales_year] \\\n",
    "                  != 'N/A' and (int(row[sales_year]) >= ign_min_year) \\\n",
    "                  and (int(row[sales_year]) <= ign_max_year)]\n",
    "        \n",
    "    sales_min_year = 3000\n",
    "    sales_max_year = 1000\n",
    "\n",
    "    for row in sales_data:\n",
    "        sales_min_year = min(sales_min_year, int(row[sales_year]))\n",
    "        sales_max_year = max(sales_max_year, int(row[sales_year]))\n",
    "\n",
    "    ign_data = [row for row in ign_data if (int(row[ign_release_y]) >= sales_min_year)\\\n",
    "                and (int(row[ign_release_y]) <= sales_max_year)]\n",
    "    \n",
    "    return ign_data, sales_data\n",
    "\n",
    "ign_data, sales_data = dicts_overlapping_time(ign_data, sales_data)\n",
    "\n",
    "r_ign_data, r_sales_data = dicts_overlapping_time(ign_data, r_sales_data)\n"
   ]
  },
  {
   "cell_type": "code",
   "execution_count": 40,
   "metadata": {
    "collapsed": true
   },
   "outputs": [],
   "source": [
    "def set_platform_names_sales(sales_data):\n",
    "    for i, row in enumerate(sales_data):\n",
    "        p = row[sales_platform]\n",
    "\n",
    "        if p == 'Wii':\n",
    "            sales_data[i][sales_platform] = 'Wii'\n",
    "        elif p == 'GB':\n",
    "            sales_data[i][sales_platform] = 'Game Boy'\n",
    "        elif p == 'DS':\n",
    "            sales_data[i][sales_platform] = 'Nintendo DS'\n",
    "        elif p == 'X360':\n",
    "            sales_data[i][sales_platform] = 'Xbox 360'\n",
    "        elif p == 'PS3':\n",
    "            sales_data[i][sales_platform] = 'PlayStation 3'\n",
    "        elif p == 'PS2':\n",
    "            sales_data[i][sales_platform] = 'PlayStation 2'\n",
    "        elif p == 'SNES':\n",
    "            sales_data[i][sales_platform] = 'Super NES'\n",
    "        elif p == 'GBA':\n",
    "            sales_data[i][sales_platform] = 'Game Boy Advance'\n",
    "        elif p == '3DS':\n",
    "            sales_data[i][sales_platform] = 'Nintendo 3DS'\n",
    "        elif p == 'PS4':\n",
    "            sales_data[i][sales_platform] = 'PlayStation 4'\n",
    "        elif p == 'N64':\n",
    "            sales_data[i][sales_platform] = 'Nintendo 64'       \n",
    "        elif p == 'PS':\n",
    "            sales_data[i][sales_platform] = 'PlayStation'\n",
    "        elif p == 'XB':\n",
    "            sales_data[i][sales_platform] = 'Xbox'\n",
    "        elif p == '2600':\n",
    "            sales_data[i][sales_platform] = 'Atari 2600'\n",
    "        elif p == 'PSP':\n",
    "            sales_data[i][sales_platform] = 'PlayStation Portable'\n",
    "        elif p == 'XOne':\n",
    "            sales_data[i][sales_platform] = 'Xbox One'\n",
    "        elif p == 'GC':\n",
    "            sales_data[i][sales_platform] = 'Game Boy Color'\n",
    "        elif p == 'WiiU':\n",
    "            sales_data[i][sales_platform] = 'Wii U'\n",
    "        elif p == 'GEN':\n",
    "            sales_data[i][sales_platform] = 'Genesis'\n",
    "        elif p == 'DC':\n",
    "            sales_data[i][sales_platform] = 'Dreamcast'\n",
    "        elif p == 'PSV':\n",
    "            sales_data[i][sales_platform] = 'PlayStation Vita'\n",
    "        elif p == 'SAT':\n",
    "            sales_data[i][sales_platform] = 'Saturn'\n",
    "        elif p == 'WS':\n",
    "            sales_data[i][sales_platform] = 'WonderSwan'\n",
    "        elif p == 'NG':\n",
    "            sales_data[i][sales_platform] = 'N-Gage'\n",
    "        elif p == 'TG16':\n",
    "            sales_data[i][sales_platform] = 'TurboGrafx-16'\n",
    "        \n",
    "set_platform_names_sales(sales_data)\n",
    "set_platform_names_sales(r_sales_data)"
   ]
  },
  {
   "cell_type": "code",
   "execution_count": 43,
   "metadata": {},
   "outputs": [],
   "source": [
    "def merge_rows(ign_row, sales_row):\n",
    "    our_dict = {}\n",
    "    \n",
    "    our_dict[ign_title] = ign_row[ign_title]\n",
    "    our_dict[ign_platform] = ign_row[ign_platform]\n",
    "    our_dict[ign_score] = float(ign_row[ign_score])\n",
    "    our_dict[sales_genre] = sales_row[sales_genre]\n",
    "    our_dict[ign_release_y] = int(ign_row[ign_release_y])\n",
    "    our_dict[ign_release_m] = int(ign_row[ign_release_m])\n",
    "    our_dict[ign_release_d] = int(ign_row[ign_release_d])\n",
    "    our_dict[sales_publisher] = sales_row[sales_publisher]\n",
    "    our_dict[sales_NA] = float(sales_row[sales_NA])\n",
    "    our_dict[sales_EU] = float(sales_row[sales_EU])\n",
    "    our_dict[sales_JP] = float(sales_row[sales_JP])\n",
    "    our_dict[sales_other] = float(sales_row[sales_other])\n",
    "    our_dict[sales_global] = float(sales_row[sales_global])\n",
    "    our_dict[sales_rank] = int(sales_row[sales_rank])\n",
    "    \n",
    "    return our_dict\n",
    "\n",
    "def gen_our_data(ign_data, sales_data):\n",
    "    our_data = []\n",
    "    \n",
    "    for ign_row in ign_data:\n",
    "        name = ign_row[ign_title]\n",
    "        console = ign_row[ign_platform]\n",
    "        \n",
    "        for sales_row in sales_data:\n",
    "            if name == sales_row[sales_name] and console == sales_row[sales_platform]:\n",
    "                our_data += [merge_rows(ign_row, sales_row)]\n",
    "    \n",
    "    return our_data\n",
    "        \n",
    "our_data = gen_our_data(ign_data, sales_data)"
   ]
  },
  {
   "cell_type": "code",
   "execution_count": 52,
   "metadata": {},
   "outputs": [],
   "source": [
    "def merge_rows2(ign_row, sales_row):\n",
    "    our_dict = {}\n",
    "\n",
    "    our_dict[ign_title] = ign_row[ign_title]\n",
    "    our_dict[ign_platform] = ign_row[ign_platform]\n",
    "    our_dict[ign_score] = float(ign_row[ign_score])\n",
    "    our_dict[sales_genre] = sales_row[sales_genre]\n",
    "    our_dict[ign_release_y] = int(ign_row[ign_release_y])\n",
    "    our_dict[ign_release_m] = int(ign_row[ign_release_m])\n",
    "    our_dict[ign_release_d] = int(ign_row[ign_release_d])\n",
    "    our_dict[sales_publisher] = sales_row[sales_publisher]\n",
    "    our_dict[sales_NA] = float(sales_row[sales_NA])\n",
    "    our_dict[sales_EU] = float(sales_row[sales_EU])\n",
    "    our_dict[sales_JP] = float(sales_row[sales_JP])\n",
    "    our_dict[sales_other] = float(sales_row[sales_other])\n",
    "    our_dict[sales_global] = float(sales_row[sales_global])\n",
    "    our_dict[sales_rank] = int(sales_row[sales_rank])\n",
    "\n",
    "    our_dict[r_sales_critic_score] = sales_row[r_sales_critic_score]\n",
    "    our_dict[r_sales_critic_count] = sales_row[r_sales_critic_count]\n",
    "    our_dict[r_sales_user_score] = sales_row[r_sales_user_score]\n",
    "    our_dict[r_sales_user_count] = sales_row[r_sales_user_count]\n",
    "    \n",
    "    return our_dict\n",
    "\n",
    "def gen_our_data2(ign_data, sales_data):\n",
    "    our_data = []\n",
    "    \n",
    "    for ign_row in ign_data:\n",
    "        name = ign_row[ign_title]\n",
    "        console = ign_row[ign_platform]\n",
    "        \n",
    "        for sales_row in sales_data:\n",
    "            if name == sales_row[sales_name] and console == sales_row[sales_platform]:\n",
    "                our_data += [merge_rows2(ign_row, sales_row)]\n",
    "                \n",
    "    return our_data\n",
    "\n",
    "r_our_data = gen_our_data2(r_ign_data, r_sales_data)"
   ]
  },
  {
   "cell_type": "code",
   "execution_count": 54,
   "metadata": {},
   "outputs": [
    {
     "name": "stdout",
     "output_type": "stream",
     "text": [
      "6891\n",
      "6884\n"
     ]
    }
   ],
   "source": [
    "print(len(our_data))\n",
    "print(len(r_our_data))"
   ]
  },
  {
   "cell_type": "code",
   "execution_count": 55,
   "metadata": {
    "collapsed": true
   },
   "outputs": [],
   "source": [
    "our_title = 'title'\n",
    "our_platform = 'platform'\n",
    "our_score = 'score'\n",
    "our_release_y = 'release_year'\n",
    "our_release_m = 'release_month'\n",
    "our_release_d = 'release_day'\n",
    "\n",
    "our_rank = 'Rank'\n",
    "our_genre = 'Genre'\n",
    "our_publisher = 'Publisher'\n",
    "our_NA = 'NA_Sales'\n",
    "our_EU = 'EU_Sales'\n",
    "our_JP = 'JP_Sales'\n",
    "our_other = 'Other_Sales'\n",
    "our_global = 'Global_Sales'\n",
    "\n",
    "\n",
    "\n",
    "our_keys = [our_title, our_platform, our_score, our_release_y, our_release_m, our_release_d, our_rank, our_genre, \\\n",
    "            our_publisher, our_NA, our_EU, our_JP, our_other, our_global]"
   ]
  },
  {
   "cell_type": "code",
   "execution_count": 57,
   "metadata": {},
   "outputs": [],
   "source": [
    "r_our_title = 'title'\n",
    "r_our_platform = 'platform'\n",
    "r_our_score = 'score'\n",
    "r_our_release_y = 'release_year'\n",
    "r_our_release_m = 'release_month'\n",
    "r_our_release_d = 'release_day'\n",
    "\n",
    "r_our_rank = 'Rank'\n",
    "r_our_genre = 'Genre'\n",
    "r_our_publisher = 'Publisher'\n",
    "r_our_NA = 'NA_Sales'\n",
    "r_our_EU = 'EU_Sales'\n",
    "r_our_JP = 'JP_Sales'\n",
    "r_our_other = 'Other_Sales'\n",
    "r_our_global = 'Global_Sales'\n",
    "r_our_cs = r_sales_critic_score\n",
    "r_our_cc = r_sales_critic_count\n",
    "r_our_us = r_sales_user_score\n",
    "r_our_uc = r_sales_user_count\n",
    "\n",
    "\n",
    "\n",
    "r_our_keys = [our_title, our_platform, our_score, our_release_y, our_release_m, our_release_d, our_rank, our_genre, \\\n",
    "            our_publisher, our_NA, our_EU, our_JP, our_other, our_global, \\\n",
    "             r_our_cs, r_our_cc, r_our_us, r_our_uc]"
   ]
  },
  {
   "cell_type": "code",
   "execution_count": 13,
   "metadata": {
    "collapsed": true
   },
   "outputs": [],
   "source": [
    "our_data_xbox = []\n",
    "our_data_ps = []\n",
    "our_data_nint = []\n",
    "our_data_pc = []\n",
    "\n",
    "\n",
    "def split_per_platform(our_data):\n",
    "    for row in our_data:\n",
    "        if row[our_platform] == 'Xbox 360' or row[our_platform] == 'Xbox' or row[our_platform] == 'Xbox One':\n",
    "            our_data_xbox.append(row)\n",
    "        elif row[our_platform] == 'PlayStation 3' or row[our_platform] == 'PlayStation 2' or row[our_platform] == 'PlayStation 4' or row[our_platform] == 'PlayStation' or row[our_platform] == 'PlayStation Portable' or row[our_platform] == 'PlayStation Vita':\n",
    "            our_data_ps.append(row)\n",
    "        elif row[our_platform] == 'Wii' or row[our_platform] == 'Game Boy' or row[our_platform] == 'Nintendo DS' or row[our_platform] == 'Super NES' or row[our_platform] == 'Game Boy Advance' or row[our_platform] == 'Nintendo 3DS' or row[our_platform] == 'Nintendo 64' or row[our_platform] == 'Game Boy Color' or row[our_platform] == 'Wii U':\n",
    "            our_data_nint.append(row)\n",
    "        elif row[our_platform] == 'PC':\n",
    "            our_data_pc.append(row)\n",
    "            \n",
    "split_per_platform(our_data)"
   ]
  },
  {
   "cell_type": "code",
   "execution_count": 14,
   "metadata": {
    "collapsed": true
   },
   "outputs": [],
   "source": [
    "myFile = open('data/our_data.csv', 'w') \n",
    "\n",
    "with myFile:  \n",
    "    writer = csv.DictWriter(myFile, fieldnames=our_keys)    \n",
    "    writer.writeheader()\n",
    "    for row in our_data:\n",
    "         writer.writerow(row)"
   ]
  },
  {
   "cell_type": "code",
   "execution_count": 20,
   "metadata": {
    "collapsed": true
   },
   "outputs": [],
   "source": [
    "myFile = open('data/our_data_Xbox.csv', 'w')\n",
    "with myFile:  \n",
    "    writer = csv.DictWriter(myFile, fieldnames=our_keys)    \n",
    "    writer.writeheader()\n",
    "    for row in our_data_xbox:\n",
    "         writer.writerow(row)"
   ]
  },
  {
   "cell_type": "code",
   "execution_count": 21,
   "metadata": {
    "collapsed": true
   },
   "outputs": [],
   "source": [
    "myFile = open('data/our_data_PlayStation.csv', 'w')\n",
    "with myFile:  \n",
    "    writer = csv.DictWriter(myFile, fieldnames=our_keys)    \n",
    "    writer.writeheader()\n",
    "    for row in our_data_ps:\n",
    "         writer.writerow(row)"
   ]
  },
  {
   "cell_type": "code",
   "execution_count": 22,
   "metadata": {
    "collapsed": true
   },
   "outputs": [],
   "source": [
    "myFile = open('data/our_data_Nintendo.csv', 'w')\n",
    "with myFile:  \n",
    "    writer = csv.DictWriter(myFile, fieldnames=our_keys)    \n",
    "    writer.writeheader()\n",
    "    for row in our_data_nint:\n",
    "         writer.writerow(row)"
   ]
  },
  {
   "cell_type": "code",
   "execution_count": 23,
   "metadata": {
    "collapsed": true
   },
   "outputs": [],
   "source": [
    "myFile = open('data/our_data_PC.csv', 'w')\n",
    "with myFile:  \n",
    "    writer = csv.DictWriter(myFile, fieldnames=our_keys)    \n",
    "    writer.writeheader()\n",
    "    for row in our_data_pc:\n",
    "         writer.writerow(row)"
   ]
  },
  {
   "cell_type": "code",
   "execution_count": 24,
   "metadata": {},
   "outputs": [
    {
     "name": "stdout",
     "output_type": "stream",
     "text": [
      "533\n",
      "1436\n",
      "2956\n",
      "2018\n"
     ]
    }
   ],
   "source": [
    "print(len(our_data_pc))\n",
    "print(len(our_data_xbox))\n",
    "print(len(our_data_ps))\n",
    "print(len(our_data_nint))"
   ]
  },
  {
   "cell_type": "code",
   "execution_count": 58,
   "metadata": {
    "collapsed": true
   },
   "outputs": [],
   "source": [
    "r_our_data_xbox = []\n",
    "r_our_data_ps = []\n",
    "r_our_data_nint = []\n",
    "r_our_data_pc = []\n",
    "\n",
    "\n",
    "def split_per_platform(our_data):\n",
    "    for row in our_data:\n",
    "        if row[our_platform] == 'Xbox 360' or row[our_platform] == 'Xbox' or row[our_platform] == 'Xbox One':\n",
    "            r_our_data_xbox.append(row)\n",
    "        elif row[our_platform] == 'PlayStation 3' or row[our_platform] == 'PlayStation 2' or row[our_platform] == 'PlayStation 4' or row[our_platform] == 'PlayStation' or row[our_platform] == 'PlayStation Portable' or row[our_platform] == 'PlayStation Vita':\n",
    "            r_our_data_ps.append(row)\n",
    "        elif row[our_platform] == 'Wii' or row[our_platform] == 'Game Boy' or row[our_platform] == 'Nintendo DS' or row[our_platform] == 'Super NES' or row[our_platform] == 'Game Boy Advance' or row[our_platform] == 'Nintendo 3DS' or row[our_platform] == 'Nintendo 64' or row[our_platform] == 'Game Boy Color' or row[our_platform] == 'Wii U':\n",
    "            r_our_data_nint.append(row)\n",
    "        elif row[our_platform] == 'PC':\n",
    "            r_our_data_pc.append(row)\n",
    "            \n",
    "split_per_platform(r_our_data)"
   ]
  },
  {
   "cell_type": "code",
   "execution_count": 59,
   "metadata": {
    "collapsed": true
   },
   "outputs": [],
   "source": [
    "myFile = open('data/ratings_our_data.csv', 'w') \n",
    "\n",
    "with myFile:  \n",
    "    writer = csv.DictWriter(myFile, fieldnames=r_our_keys)    \n",
    "    writer.writeheader()\n",
    "    for row in r_our_data:\n",
    "         writer.writerow(row)"
   ]
  },
  {
   "cell_type": "code",
   "execution_count": 60,
   "metadata": {
    "collapsed": true
   },
   "outputs": [],
   "source": [
    "myFile = open('data/ratings_our_data_Xbox.csv', 'w')\n",
    "with myFile:  \n",
    "    writer = csv.DictWriter(myFile, fieldnames=r_our_keys)    \n",
    "    writer.writeheader()\n",
    "    for row in r_our_data_xbox:\n",
    "         writer.writerow(row)"
   ]
  },
  {
   "cell_type": "code",
   "execution_count": 61,
   "metadata": {
    "collapsed": true
   },
   "outputs": [],
   "source": [
    "myFile = open('data/ratings_our_data_Nintendo.csv', 'w')\n",
    "with myFile:  \n",
    "    writer = csv.DictWriter(myFile, fieldnames=r_our_keys)    \n",
    "    writer.writeheader()\n",
    "    for row in r_our_data_nint:\n",
    "         writer.writerow(row)"
   ]
  },
  {
   "cell_type": "code",
   "execution_count": 62,
   "metadata": {
    "collapsed": true
   },
   "outputs": [],
   "source": [
    "myFile = open('data/ratings_our_data_PlayStation.csv', 'w')\n",
    "with myFile:  \n",
    "    writer = csv.DictWriter(myFile, fieldnames=r_our_keys)    \n",
    "    writer.writeheader()\n",
    "    for row in r_our_data_ps:\n",
    "         writer.writerow(row)"
   ]
  },
  {
   "cell_type": "code",
   "execution_count": 63,
   "metadata": {
    "collapsed": true
   },
   "outputs": [],
   "source": [
    "myFile = open('data/ratings_our_data_PC.csv', 'w')\n",
    "with myFile:  \n",
    "    writer = csv.DictWriter(myFile, fieldnames=r_our_keys)    \n",
    "    writer.writeheader()\n",
    "    for row in r_our_data_pc:\n",
    "         writer.writerow(row)"
   ]
  },
  {
   "cell_type": "code",
   "execution_count": 64,
   "metadata": {},
   "outputs": [
    {
     "name": "stdout",
     "output_type": "stream",
     "text": [
      "529\n",
      "1436\n",
      "2899\n",
      "1995\n"
     ]
    }
   ],
   "source": [
    "print(len(r_our_data_pc))\n",
    "print(len(r_our_data_xbox))\n",
    "print(len(r_our_data_ps))\n",
    "print(len(r_our_data_nint))"
   ]
  },
  {
   "cell_type": "code",
   "execution_count": null,
   "metadata": {
    "collapsed": true
   },
   "outputs": [],
   "source": []
  }
 ],
 "metadata": {
  "kernelspec": {
   "display_name": "Python 3",
   "language": "python",
   "name": "python3"
  },
  "language_info": {
   "codemirror_mode": {
    "name": "ipython",
    "version": 3
   },
   "file_extension": ".py",
   "mimetype": "text/x-python",
   "name": "python",
   "nbconvert_exporter": "python",
   "pygments_lexer": "ipython3",
   "version": "3.7.0"
  }
 },
 "nbformat": 4,
 "nbformat_minor": 2
}
