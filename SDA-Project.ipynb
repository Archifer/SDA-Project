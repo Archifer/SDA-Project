{
 "cells": [
  {
   "cell_type": "code",
   "execution_count": 1,
   "metadata": {
    "collapsed": true
   },
   "outputs": [],
   "source": [
    "import numpy as np\n",
    "import csv"
   ]
  },
  {
   "cell_type": "code",
   "execution_count": 2,
   "metadata": {},
   "outputs": [],
   "source": [
    "fin = open('data/ign.csv', 'r')\n",
    "ign = csv.DictReader(fin)\n",
    "\n",
    "ign_line_number = ''\n",
    "ign_score_pr = 'score_phrase'\n",
    "ign_title = 'title'\n",
    "ign_url = 'url'\n",
    "ign_platform = 'platform'\n",
    "ign_score = 'score'\n",
    "ign_genre = 'genre'\n",
    "ign_editor_choice = 'editor_choice'\n",
    "ign_release_y = 'release_year'\n",
    "ign_release_m = 'release_month'\n",
    "ign_release_d = 'release_day'\n",
    "\n",
    "ign_data = [row for row in ign]\n",
    "    \n",
    "fin = open('data/vgsales.csv', 'r')\n",
    "sales = csv.DictReader(fin)\n",
    "\n",
    "sales_rank = 'Rank'\n",
    "sales_name = 'Name'\n",
    "sales_platform = 'Platform'\n",
    "sales_year = 'Year'\n",
    "sales_genre = 'Genre'\n",
    "sales_publisher = 'Publisher'\n",
    "sales_NA = 'NA_Sales'\n",
    "sales_EU = 'EU_Sales'\n",
    "sales_JP = 'JP_Sales'\n",
    "sales_other = 'Other_Sales'\n",
    "sales_global = 'Global_Sales'\n",
    "\n",
    "sales_data = [row for row in sales]"
   ]
  },
  {
   "cell_type": "code",
   "execution_count": 3,
   "metadata": {},
   "outputs": [],
   "source": [
    "def dicts_overlapping_time(ign_data, sales_data):\n",
    "    ign_min_year = 3000\n",
    "    ign_max_year = 1000\n",
    "\n",
    "    for row in ign_data:\n",
    "        ign_min_year = min(ign_min_year, int(row[ign_release_y]))\n",
    "        ign_max_year = max(ign_max_year, int(row[ign_release_y]))\n",
    "        \n",
    "    sales_data = [row for row in sales_data if row[sales_year] \\\n",
    "                  != 'N/A' and (int(row[sales_year]) >= ign_min_year) \\\n",
    "                  and (int(row[sales_year]) <= ign_max_year)]\n",
    "        \n",
    "    sales_min_year = 3000\n",
    "    sales_max_year = 1000\n",
    "\n",
    "    for row in sales_data:\n",
    "        sales_min_year = min(sales_min_year, int(row[sales_year]))\n",
    "        sales_max_year = max(sales_max_year, int(row[sales_year]))\n",
    "\n",
    "    ign_data = [row for row in ign_data if (int(row[ign_release_y]) >= sales_min_year)\\\n",
    "                and (int(row[ign_release_y]) <= sales_max_year)]\n",
    "    \n",
    "    return ign_data, sales_data\n",
    "\n",
    "ign_data, sales_data = dicts_overlapping_time(ign_data, sales_data)"
   ]
  },
  {
   "cell_type": "code",
   "execution_count": 4,
   "metadata": {},
   "outputs": [],
   "source": [
    "def set_platform_names_sales(sales_data):\n",
    "    for i, row in enumerate(sales_data):\n",
    "        p = row[sales_platform]\n",
    "\n",
    "        if p == 'Wii':\n",
    "            sales_data[i][sales_platform] = 'Wii'\n",
    "        elif p == 'GB':\n",
    "            sales_data[i][sales_platform] = 'Game Boy'\n",
    "        elif p == 'DS':\n",
    "            sales_data[i][sales_platform] = 'Nintendo DS'\n",
    "        elif p == 'X360':\n",
    "            sales_data[i][sales_platform] = 'Xbox 360'\n",
    "        elif p == 'PS3':\n",
    "            sales_data[i][sales_platform] = 'PlayStation 3'\n",
    "        elif p == 'PS2':\n",
    "            sales_data[i][sales_platform] = 'PlayStation 2'\n",
    "        elif p == 'SNES':\n",
    "            sales_data[i][sales_platform] = 'Super NES'\n",
    "        elif p == 'GBA':\n",
    "            sales_data[i][sales_platform] = 'Game Boy Advance'\n",
    "        elif p == '3DS':\n",
    "            sales_data[i][sales_platform] = 'Nintendo 3DS'\n",
    "        elif p == 'PS4':\n",
    "            sales_data[i][sales_platform] = 'PlayStation 4'\n",
    "        elif p == 'N64':\n",
    "            sales_data[i][sales_platform] = 'Nintendo 64'       \n",
    "        elif p == 'PS':\n",
    "            sales_data[i][sales_platform] = 'PlayStation'\n",
    "        elif p == 'XB':\n",
    "            sales_data[i][sales_platform] = 'Xbox'\n",
    "        elif p == '2600':\n",
    "            sales_data[i][sales_platform] = 'Atari 2600'\n",
    "        elif p == 'PSP':\n",
    "            sales_data[i][sales_platform] = 'PlayStation Portable'\n",
    "        elif p == 'XOne':\n",
    "            sales_data[i][sales_platform] = 'Xbox One'\n",
    "        elif p == 'GC':\n",
    "            sales_data[i][sales_platform] = 'Game Boy Color'\n",
    "        elif p == 'WiiU':\n",
    "            sales_data[i][sales_platform] = 'Wii U'\n",
    "        elif p == 'GEN':\n",
    "            sales_data[i][sales_platform] = 'Genesis'\n",
    "        elif p == 'DC':\n",
    "            sales_data[i][sales_platform] = 'Dreamcast'\n",
    "        elif p == 'PSV':\n",
    "            sales_data[i][sales_platform] = 'PlayStation Vita'\n",
    "        elif p == 'SAT':\n",
    "            sales_data[i][sales_platform] = 'Saturn'\n",
    "        elif p == 'WS':\n",
    "            sales_data[i][sales_platform] = 'WonderSwan'\n",
    "        elif p == 'NG':\n",
    "            sales_data[i][sales_platform] = 'N-Gage'\n",
    "        elif p == 'TG16':\n",
    "            sales_data[i][sales_platform] = 'TurboGrafx-16'\n",
    "        \n",
    "set_platform_names_sales(sales_data)"
   ]
  },
  {
   "cell_type": "code",
   "execution_count": 5,
   "metadata": {},
   "outputs": [],
   "source": [
    "def merge_rows(ign_row, sales_row):\n",
    "    our_dict = {}\n",
    "    \n",
    "    our_dict[ign_title] = ign_row[ign_title]\n",
    "    our_dict[ign_platform] = ign_row[ign_platform]\n",
    "    our_dict[ign_score] = float(ign_row[ign_score])\n",
    "    our_dict[sales_genre] = sales_row[sales_genre]\n",
    "    our_dict[ign_release_y] = int(ign_row[ign_release_y])\n",
    "    our_dict[ign_release_m] = int(ign_row[ign_release_m])\n",
    "    our_dict[ign_release_d] = int(ign_row[ign_release_d])\n",
    "    our_dict[sales_publisher] = sales_row[sales_publisher]\n",
    "    our_dict[sales_NA] = float(sales_row[sales_NA])\n",
    "    our_dict[sales_EU] = float(sales_row[sales_EU])\n",
    "    our_dict[sales_JP] = float(sales_row[sales_JP])\n",
    "    our_dict[sales_other] = float(sales_row[sales_other])\n",
    "    our_dict[sales_global] = float(sales_row[sales_global])\n",
    "    our_dict[sales_rank] = int(sales_row[sales_rank])\n",
    "    \n",
    "    return our_dict\n",
    "\n",
    "\n",
    "def gen_our_data(ign_data, sales_data):\n",
    "    our_data = []\n",
    "    \n",
    "    for ign_row in ign_data:\n",
    "        name = ign_row[ign_title]\n",
    "        console = ign_row[ign_platform]\n",
    "        \n",
    "        for sales_row in sales_data:\n",
    "            if name == sales_row[sales_name] and console == sales_row[sales_platform]:\n",
    "                our_data += [merge_rows(ign_row, sales_row)]\n",
    "    \n",
    "    return our_data\n",
    "        \n",
    "our_data = gen_our_data(ign_data, sales_data)"
   ]
  },
  {
   "cell_type": "code",
   "execution_count": 6,
   "metadata": {},
   "outputs": [
    {
     "name": "stdout",
     "output_type": "stream",
     "text": [
      "7003\n"
     ]
    }
   ],
   "source": [
    "print(len(our_data))"
   ]
  },
  {
   "cell_type": "code",
   "execution_count": 11,
   "metadata": {},
   "outputs": [],
   "source": [
    "our_title = 'title'\n",
    "our_platform = 'platform'\n",
    "our_score = 'score'\n",
    "our_release_y = 'release_year'\n",
    "our_release_m = 'release_month'\n",
    "our_release_d = 'release_day'\n",
    "\n",
    "our_rank = 'Rank'\n",
    "our_genre = 'Genre'\n",
    "our_publisher = 'Publisher'\n",
    "our_NA = 'NA_Sales'\n",
    "our_EU = 'EU_Sales'\n",
    "our_JP = 'JP_Sales'\n",
    "our_other = 'Other_Sales'\n",
    "our_global = 'Global_Sales'\n",
    "\n",
    "our_keys = [our_title, our_platform, our_score, our_release_y, our_release_m, our_release_d, our_rank, our_genre, \\\n",
    "            our_publisher, our_NA, our_EU, our_JP, our_other, our_global]"
   ]
  },
  {
   "cell_type": "code",
   "execution_count": 17,
   "metadata": {},
   "outputs": [],
   "source": [
    "myFile = open('data/our_data.csv', 'w') \n",
    "\n",
    "with myFile:  \n",
    "    writer = csv.DictWriter(myFile, fieldnames=our_keys)    \n",
    "    writer.writeheader()\n",
    "    for row in our_data:\n",
    "         writer.writerow(row)"
   ]
  },
  {
   "cell_type": "code",
   "execution_count": null,
   "metadata": {},
   "outputs": [],
   "source": []
  },
  {
   "cell_type": "code",
   "execution_count": null,
   "metadata": {},
   "outputs": [],
   "source": []
  },
  {
   "cell_type": "code",
   "execution_count": null,
   "metadata": {
    "collapsed": true
   },
   "outputs": [],
   "source": []
  }
 ],
 "metadata": {
  "kernelspec": {
   "display_name": "Python 3",
   "language": "python",
   "name": "python3"
  },
  "language_info": {
   "codemirror_mode": {
    "name": "ipython",
    "version": 3
   },
   "file_extension": ".py",
   "mimetype": "text/x-python",
   "name": "python",
   "nbconvert_exporter": "python",
   "pygments_lexer": "ipython3",
   "version": "3.7.0"
  }
 },
 "nbformat": 4,
 "nbformat_minor": 2
}
