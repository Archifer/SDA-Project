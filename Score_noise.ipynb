{
 "cells": [
  {
   "cell_type": "code",
   "execution_count": 3,
   "metadata": {},
   "outputs": [],
   "source": [
    "import csv\n",
    "\n",
    "import matplotlib.pyplot as plt\n",
    "\n",
    "import pandas as pd\n",
    "\n",
    "import statsmodels.api as sm\n",
    "import statsmodels.formula.api as smf\n",
    "\n",
    "from statsmodels.graphics.regressionplots import abline_plot\n",
    "\n",
    "import numpy as np"
   ]
  },
  {
   "cell_type": "code",
   "execution_count": 5,
   "metadata": {},
   "outputs": [],
   "source": [
    "key_title = 'title'\n",
    "key_platform = 'platform'\n",
    "key_ign_score = 'score'\n",
    "key_release_y = 'release_year'\n",
    "key_release_m = 'release_month'\n",
    "key_release_d = 'release_day'\n",
    "key_release_q = 'release_quarter'\n",
    "\n",
    "key_rank = 'Rank'\n",
    "key_genre = 'Genre'\n",
    "key_publisher = 'Publisher'\n",
    "key_NA = 'NA_Sales'\n",
    "key_EU = 'EU_Sales'\n",
    "key_JP = 'JP_Sales'\n",
    "key_other = 'Other_Sales'\n",
    "key_global = 'Global_Sales'\n",
    "key_critic_score = 'Critic_Score'\n",
    "key_critic_count = 'Critic_Count'\n",
    "key_user_score = 'User_Score'\n",
    "key_user_count = 'User_Count'\n",
    "\n",
    "keys = [key_title, key_platform, key_ign_score, key_release_y, key_release_m, key_release_d, key_release_q,\\\n",
    "        key_rank, key_genre, key_publisher, key_NA, key_EU, key_JP, key_other, key_global]\n",
    "\n"
   ]
  },
  {
   "cell_type": "code",
   "execution_count": 26,
   "metadata": {},
   "outputs": [
    {
     "name": "stdout",
     "output_type": "stream",
     "text": [
      "OrderedDict([('title', 'LittleBigPlanet PS Vita'), ('platform', 'PlayStation Vita'), ('score', 9.0), ('release_year', 2012), ('release_month', 9), ('release_day', 12), ('Rank', 1298), ('Genre', 'Platform'), ('Publisher', 'Sony Computer Entertainment'), ('NA_Sales', 0.4), ('EU_Sales', 0.72), ('JP_Sales', 0.02), ('Other_Sales', 0.33), ('Global_Sales', 1.47), ('Critic_Score', 0.88), ('Critic_Count', 71), ('User_Score', 8.6), ('User_Count', 348), ('release_quarter', 'Q3')])\n"
     ]
    }
   ],
   "source": [
    "def beautify_dict(data):\n",
    "    need_removing = []\n",
    "    \n",
    "    for i in range(0, len(data)):\n",
    "        if data[i][key_critic_count] == '' or data[i][key_user_count] == '':\n",
    "            need_removing += [i]\n",
    "            continue\n",
    "\n",
    "        data[i][key_ign_score] = float(data[i][key_ign_score])\n",
    "        data[i][key_rank] = int(data[i][key_rank])\n",
    "        data[i][key_release_y] = int(data[i][key_release_y])\n",
    "        data[i][key_release_m] = int(data[i][key_release_m])\n",
    "        data[i][key_release_d] = int(data[i][key_release_d])\n",
    "        data[i][key_release_q] = ['Q1', 'Q2', 'Q3', 'Q4'][(data[i][key_release_m] - 1) // 3]\n",
    "        data[i][key_NA] = float(data[i][key_NA])\n",
    "        data[i][key_EU] = float(data[i][key_EU])\n",
    "        data[i][key_JP] = float(data[i][key_JP])\n",
    "        data[i][key_other] = float(data[i][key_other])\n",
    "        data[i][key_global] = float(data[i][key_global])\n",
    "        data[i][key_critic_count] = int(data[i][key_critic_count])\n",
    "        data[i][key_critic_score] = float(data[i][key_critic_score]) / 100\n",
    "        data[i][key_user_count] = int(data[i][key_user_count])\n",
    "        data[i][key_user_score] = float(data[i][key_user_score])\n",
    "        \n",
    "    return [row for row in data if data[i][key_critic_count] != '' or data[i][key_user_count] != '']\n",
    "\n",
    "fin = open('data/ratings_our_data.csv', 'r')\n",
    "r_data = csv.DictReader(fin)\n",
    "\n",
    "r_data = [row for row in r_data]\n",
    "\n",
    "r_data = beautify_dict(r_data)\n",
    "    \n",
    "print(r_data[0])"
   ]
  },
  {
   "cell_type": "markdown",
   "metadata": {},
   "source": [
    "## Weighted std"
   ]
  },
  {
   "cell_type": "code",
   "execution_count": null,
   "metadata": {
    "collapsed": true
   },
   "outputs": [],
   "source": []
  },
  {
   "cell_type": "markdown",
   "metadata": {},
   "source": [
    "### LRG using the different scores"
   ]
  },
  {
   "cell_type": "code",
   "execution_count": 35,
   "metadata": {},
   "outputs": [
    {
     "data": {
      "image/png": "[encoded data removed]",
      "text/plain": [
       "<matplotlib.figure.Figure at 0x7f31c027ef60>"
      ]
     },
     "metadata": {},
     "output_type": "display_data"
    }
   ],
   "source": [
    "def gen_y_error(data, real_value, noise, key, times):   \n",
    "    worst_error = 0\n",
    "    \n",
    "    for _ in range(times):\n",
    "        temp_data = [dict(row) for row in data]\n",
    "        \n",
    "        for i in range(len(temp_data)):\n",
    "            temp_data[i][key] += random.uniform(-noise, noise)\n",
    "            \n",
    "        # calc lin model\n",
    "        \n",
    "        # calc accuracy\n",
    "        \n",
    "        if abs(real_value - noisy_accuracy) > worst_error:\n",
    "            worst_error = abs(real_value - noisy_accuracy)\n",
    "            \n",
    "    return worst_error\n",
    "\n",
    "def lol(x, data):\n",
    "    return x + data[0]\n",
    "\n",
    "data3 = [2,3,4]\n",
    "fig = plt.figure(0)\n",
    "x = np.arange(10.0)\n",
    "y = np.sin(np.arange(10.0) / 20.0 * np.pi)\n",
    "\n",
    "plt.errorbar(x, y, yerr=0.1)\n",
    "\n",
    "y = np.sin(np.arange(10.0) / 20.0 * np.pi) + 1\n",
    "plt.errorbar(x, y, yerr=0.1, uplims=True)\n",
    "\n",
    "y = np.sin(np.arange(10.0) / 20.0 * np.pi) + 2\n",
    "upperlimits = np.array([1, 0] * 5)\n",
    "lowerlimits = np.array([0, 1] * 5)\n",
    "# lol = x\n",
    "plt.errorbar(x, y, yerr=lol(x, data3), uplims=upperlimits, lolims=lowerlimits)\n",
    "\n",
    "plt.xlim(-1, 10)\n",
    "plt.show()"
   ]
  },
  {
   "cell_type": "code",
   "execution_count": null,
   "metadata": {
    "collapsed": true
   },
   "outputs": [],
   "source": []
  }
 ],
 "metadata": {
  "kernelspec": {
   "display_name": "Python 3",
   "language": "python",
   "name": "python3"
  },
  "language_info": {
   "codemirror_mode": {
    "name": "ipython",
    "version": 3
   },
   "file_extension": ".py",
   "mimetype": "text/x-python",
   "name": "python",
   "nbconvert_exporter": "python",
   "pygments_lexer": "ipython3",
   "version": "3.7.0"
  }
 },
 "nbformat": 4,
 "nbformat_minor": 2
}
